{
 "cells": [
  {
   "cell_type": "code",
   "execution_count": null,
   "metadata": {},
   "outputs": [],
   "source": [
    "!voms-proxy-info"
   ]
  },
  {
   "cell_type": "code",
   "execution_count": null,
   "metadata": {},
   "outputs": [],
   "source": [
    "# NB: This is for spark running on parquet files converted from\n",
    "#     baconbits skims. This is a prototype, there is lots of boilerplate.\n",
    "#     We're making it better :-)\n",
    "\n",
    "import pyspark.sql\n",
    "import os\n",
    "import sys\n",
    "from pyarrow.compat import guid\n",
    "from coffea.processor.spark.detail import _spark_initialize\n",
    "\n",
    "print(os.environ['X509_USER_PROXY'])\n",
    "\n",
    "# The following line is necessary because we're working in a\n",
    "# virtualenv. Without it, executors will use the wrong interpreter!\n",
    "#os.environ['PYSPARK_PYTHON'] = sys.executable\n",
    "\n",
    "#    .config(\"spark.driver.extraClassPath\",\"/home/cms.lgray/sparkMeasure/target/scala-2.12/spark-measure_2.12-0.14-SNAPSHOT.jar\") \\\n",
    "#    .master('local[*]') \\\n",
    "#.master('') \\\n",
    "#spark://cmsspark-submit.fnal.gov:7077\n",
    "#    .config('spark.hadoop.fs.xrootd.read.buffer', 100 * 1048576) \\\n",
    "#    .config('spark.hadoop.fs.xrootd.write.buffer', 100 * 1048576) \\\n",
    "conf = pyspark.sql.SparkSession.builder \\\n",
    "    .appName('baconbits-spark-%s' % guid()) \\\n",
    "    .master('k8s://https://cmsokddev-mgr.fnal.gov:8443') \\\n",
    "    .config('spark.kubernetes.container.image', 'ssiregistry.fnal.gov:443/ecf-gco/cmsspark:2.4.3_cluster') \\\n",
    "    .config('spark.kubernetes.namespace', 'cmsspark') \\\n",
    "    .config('spark.executor.instances', 30) \\\n",
    "    .config('spark.kubernetes.allocation.batch.size', 30) \\\n",
    "    .config('spark.kubernetes.authenticate.driver.serviceAccountName', 'spark-bot') \\\n",
    "    .config('spark.kubernetes.driver.secrets.lgray-x509','/tmp/grid_proxy') \\\n",
    "    .config('spark.kubernetes.executor.secrets.lgray-x509','/tmp/grid_proxy') \\\n",
    "    .config('spark.driver.cores',8) \\\n",
    "    .config('spark.driver.memory','10g') \\\n",
    "    .config('spark.executor.memory', \"20g\") \\\n",
    "    .config('spark.debug.maxToStringFields',1000) \\\n",
    "    .config(\"spark.rdd.compress\", \"true\") \\\n",
    "    .config('spark.executorEnv.XRD_RUNFORKHANDLER','1') \\\n",
    "    .config('spark.executorEnv.X509_USER_PROXY',\"%s\" % '/tmp/grid_proxy/x509up_u13225') \\\n",
    "    .config('spark.sql.execution.arrow.enabled','true') \\\n",
    "    .config(\"spark.blockManager.port\", \"8000\") \\\n",
    "    .config('spark.sql.execution.arrow.pyspark.enabled','true') \\\n",
    "    .config('spark.sql.execution.arrow.maxRecordsPerBatch', 200000) \\\n",
    "    .config('spark.driver.extraClassPath','file:///opt/hadoop-xrootd/hadoop-xrootd-1.0.4-jar-with-dependencies.jar') \\\n",
    "    .config('spark.executor.extraClassPath','file:///opt/hadoop-xrootd/hadoop-xrootd-1.0.4-jar-with-dependencies.jar')\n",
    "session = _spark_initialize(config=conf,log_level='WARN',laurelin_version='0.4.2-SNAPSHOT')\n",
    "sc = session.sparkContext\n",
    "sc.setLogLevel(\"WARN\")\n",
    "spark = session\n",
    "\n",
    "#from sparkmeasure import TaskMetrics\n",
    "#taskmetrics = TaskMetrics(spark)\n",
    "\n",
    "partitionsize = 200000\n",
    "thread_workers = 16\n"
   ]
  },
  {
   "cell_type": "code",
   "execution_count": 1,
   "metadata": {},
   "outputs": [
    {
     "name": "stdout",
     "output_type": "stream",
     "text": [
      "/home/lagray/x509up_u13225\n"
     ]
    }
   ],
   "source": [
    "import pyspark.sql\n",
    "import os\n",
    "import sys\n",
    "from pyarrow.compat import guid\n",
    "from coffea.processor.spark.detail import _spark_initialize\n",
    "\n",
    "print(os.environ['X509_USER_PROXY'])\n",
    "\n",
    "# The following line is necessary because we're working in a\n",
    "# virtualenv. Without it, executors will use the wrong interpreter!\n",
    "#os.environ['PYSPARK_PYTHON'] = sys.executable\n",
    "\n",
    "#    .config(\"spark.driver.extraClassPath\",\"/home/cms.lgray/sparkMeasure/target/scala-2.12/spark-measure_2.12-0.14-SNAPSHOT.jar\") \\\n",
    "#    .master('local[*]') \\\n",
    "#.master('') \\\n",
    "#spark://cmsspark-submit.fnal.gov:7077\n",
    "#    .config('spark.hadoop.fs.xrootd.read.buffer', 100 * 1048576) \\\n",
    "#    .config('spark.hadoop.fs.xrootd.write.buffer', 100 * 1048576) \\\n",
    "conf = pyspark.sql.SparkSession.builder \\\n",
    "    .appName('baconbits-spark-%s' % guid()) \\\n",
    "    .master('spark://cmsspark-submit.fnal.gov:7077') \\\n",
    "    .config('spark.driver.cores',8) \\\n",
    "    .config('spark.driver.memory','10g') \\\n",
    "    .config('spark.executor.memory', '20g') \\\n",
    "    .config('spark.debug.maxToStringFields',1000) \\\n",
    "    .config('spark.rdd.compress', 'true') \\\n",
    "    .config('spark.executorEnv.XRD_RUNFORKHANDLER','1') \\\n",
    "    .config('spark.executorEnv.X509_PROXY','%s' % os.environ['X509_USER_PROXY']) \\\n",
    "    .config('spark.files','%s' % os.environ['X509_USER_PROXY']) \\\n",
    "    .config('spark.sql.execution.arrow.enabled','true') \\\n",
    "    .config('spark.blockManager.port', '8000') \\\n",
    "    .config('spark.shuffle.service.enabled','true') \\\n",
    "    .config('spark.scheduler.mode', 'FAIR') \\\n",
    "    .config('spark.executor.instances','1') \\\n",
    "    .config('spark.dynamicAllocation.enabled','true') \\\n",
    "    .config('spark.dynamicAllocation.executorIdleTimeout','1m') \\\n",
    "    .config('spark.dynamicAllocation.cachedExecutorIdleTimeout','10m') \\\n",
    "    .config('spark.dynamicAllocation.minExecutors','1') \\\n",
    "    .config('spark.dynamicAllocation.maxExecutors','80') \\\n",
    "    .config('spark.sql.execution.arrow.pyspark.enabled','true') \\\n",
    "    .config('spark.sql.execution.arrow.maxRecordsPerBatch', 200000) \\\n",
    "    .config('spark.driver.extraClassPath','file:///opt/hadoop-xrootd/hadoop-xrootd-1.0.4-jar-with-dependencies.jar') \\\n",
    "    .config('spark.executor.extraClassPath','file:///opt/hadoop-xrootd/hadoop-xrootd-1.0.4-jar-with-dependencies.jar')\n",
    "session = _spark_initialize(config=conf,log_level='WARN',laurelin_version='0.5.2-SNAPSHOT')\n",
    "sc = session.sparkContext\n",
    "sc.setLogLevel(\"WARN\")\n",
    "spark = session\n",
    "\n",
    "#from sparkmeasure import TaskMetrics\n",
    "#taskmetrics = TaskMetrics(spark)\n",
    "\n",
    "partitionsize = 200000\n",
    "thread_workers = 16"
   ]
  },
  {
   "cell_type": "code",
   "execution_count": 2,
   "metadata": {},
   "outputs": [],
   "source": [
    "import pyspark.sql.functions as fn\n",
    "from tqdm import tqdm\n",
    "import json\n",
    "\n",
    "datasets = {}\n",
    "\n",
    "with open('metadata/samples_allyears.json') as f:\n",
    "    temp = json.load(f)\n",
    "    for dsgroup,datasetlist in temp.items():\n",
    "        if dsgroup != 'Hbb_create_2017': continue\n",
    "        datasets = datasetlist\n",
    "\n",
    "datasets_spark = {}\n",
    "\n",
    "for ds, flist in datasets.items():\n",
    "    #if ds != 'data_obs_jet': continue\n",
    "    if '/skim/' in flist[0]:\n",
    "        datasets_spark[ds] = {'files': flist, 'treename': 'otree'}\n",
    "    else:\n",
    "        datasets_spark[ds] = {'files': flist, 'treename': 'Events'}\n"
   ]
  },
  {
   "cell_type": "code",
   "execution_count": 3,
   "metadata": {},
   "outputs": [],
   "source": [
    "#get the hbb analysis worker\n",
    "from coffea.util import load\n",
    "\n",
    "processor_instance = load('boostedHbbProcessor.coffea')\n"
   ]
  },
  {
   "cell_type": "code",
   "execution_count": 6,
   "metadata": {},
   "outputs": [
    {
     "data": {
      "application/vnd.jupyter.widget-view+json": {
       "model_id": "baaa8a03aaac481882a6dc90a257a809",
       "version_major": 2,
       "version_minor": 0
      },
      "text/plain": [
       "HBox(children=(IntProgress(value=0, description='Processing', max=44, style=ProgressStyle(description_width='i…"
      ]
     },
     "metadata": {},
     "output_type": "display_data"
    },
    {
     "name": "stdout",
     "output_type": "stream",
     "text": [
      "\n"
     ]
    }
   ],
   "source": [
    "import time\n",
    "from coffea.processor import run_spark_job\n",
    "from coffea.processor.spark.spark_executor import spark_executor\n",
    "\n",
    "tic = time.time()\n",
    "final_accumulator = run_spark_job(datasets_spark, processor_instance, spark_executor, \n",
    "                                  spark=spark, partitionsize=partitionsize, thread_workers=thread_workers,\n",
    "                                  executor_args={'file_type': 'edu.vanderbilt.accre.laurelin.Root', 'cache': False})\n",
    "dt = time.time() - tic\n"
   ]
  },
  {
   "cell_type": "code",
   "execution_count": 5,
   "metadata": {
    "scrolled": true
   },
   "outputs": [
    {
     "name": "stdout",
     "output_type": "stream",
     "text": [
      "processed: 305627883 events\n",
      "total time:  5.1111131111780805\n",
      "μs/evt 1.0033992437485975\n",
      "Mevt/s 0.9966122719647484\n"
     ]
    }
   ],
   "source": [
    "nevt = sum(spark_executor.counts.values())\n",
    "print('processed:',nevt,'events')\n",
    "print('total time: ',dt/60)\n",
    "print('μs/evt', dt/nevt*1e6)\n",
    "print('Mevt/s', nevt/dt/1e6)\n"
   ]
  },
  {
   "cell_type": "code",
   "execution_count": null,
   "metadata": {},
   "outputs": [],
   "source": [
    "from coffea import hist\n",
    "from coffea.util import save\n",
    "import gzip\n",
    "import pickle\n",
    "import numexpr\n",
    "import numpy as np\n",
    "\n",
    "nbins = sum(sum(arr.size for arr in h._sumw.values()) for h in final_accumulator.values() if isinstance(h, hist.Hist))\n",
    "nfilled = sum(sum(np.sum(arr>0) for arr in h._sumw.values()) for h in final_accumulator.values() if isinstance(h, hist.Hist))\n",
    "print(\"Processed %.1fM events\" % (nevt/1e6, ))\n",
    "print(\"Filled %.1fM bins\" % (nbins/1e6, ))\n",
    "print(\"Nonzero bins: %.1f%%\" % (100*nfilled/nbins, ))\n",
    "\n",
    "# Pickle is not very fast or memory efficient, will be replaced by something better soon\n",
    "save(final_accumulator,'hists.coffea')\n",
    "\n",
    "#dt = time.time() - tstart\n",
    "#print(\"%.2f us*cpu/event overall\" % (1e6*dt*nworkers/final_accumulators['nentries'], ))\n"
   ]
  },
  {
   "cell_type": "code",
   "execution_count": null,
   "metadata": {},
   "outputs": [],
   "source": [
    "spark.stop()\n"
   ]
  },
  {
   "cell_type": "code",
   "execution_count": null,
   "metadata": {},
   "outputs": [],
   "source": []
  }
 ],
 "metadata": {
  "kernelspec": {
   "display_name": "Python 3",
   "language": "python",
   "name": "python3"
  },
  "language_info": {
   "codemirror_mode": {
    "name": "ipython",
    "version": 3
   },
   "file_extension": ".py",
   "mimetype": "text/x-python",
   "name": "python",
   "nbconvert_exporter": "python",
   "pygments_lexer": "ipython3",
   "version": "3.6.8"
  }
 },
 "nbformat": 4,
 "nbformat_minor": 2
}
